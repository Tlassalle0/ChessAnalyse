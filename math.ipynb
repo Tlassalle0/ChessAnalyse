{
 "cells": [
  {
   "cell_type": "code",
   "execution_count": 3,
   "metadata": {},
   "outputs": [],
   "source": [
    "import pandas as pd\n",
    "filepath = 'data/raw/games.csv'"
   ]
  },
  {
   "cell_type": "code",
   "execution_count": null,
   "metadata": {},
   "outputs": [],
   "source": [
    "data = pd.read_csv(filepath)\n",
    "\n",
    "# Make a file that has the fields playerId, openingUsed, nbOfOpeningUsed, winrateOfOpening\n",
    "# We only look at white players\n",
    "# playerId is the id of the player\n",
    "# openingUsed is the name of the opening used by the player\n",
    "# nbOfOpeningUsed is the number of times the player used the opening\n",
    "# winrateOfOpening is the winrate of the player when using the opening\n",
    "\n",
    "dataWhite = data['white_id', 'opening_name', 'winner']\n"
   ]
  },
  {
   "cell_type": "code",
   "execution_count": null,
   "metadata": {},
   "outputs": [],
   "source": []
  }
 ],
 "metadata": {
  "kernelspec": {
   "display_name": "base",
   "language": "python",
   "name": "python3"
  },
  "language_info": {
   "codemirror_mode": {
    "name": "ipython",
    "version": 3
   },
   "file_extension": ".py",
   "mimetype": "text/x-python",
   "name": "python",
   "nbconvert_exporter": "python",
   "pygments_lexer": "ipython3",
   "version": "3.12.7"
  }
 },
 "nbformat": 4,
 "nbformat_minor": 2
}
