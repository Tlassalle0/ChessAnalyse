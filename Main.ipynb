{
 "cells": [
  {
   "cell_type": "markdown",
   "id": "470ec76f-3221-4b97-ad8f-a1ada7d47beb",
   "metadata": {},
   "source": [
    "The goal of this project is To find wether Playing the same opening repeatidly leads to a higher winrate"
   ]
  },
  {
   "cell_type": "code",
   "execution_count": 2,
   "id": "93255616-ca49-47c6-a5bc-81ab4e0a7534",
   "metadata": {},
   "outputs": [],
   "source": [
    "import pandas as pd\n",
    "\n",
    "file = pd.read_csv('data/raw/games.csv')\n"
   ]
  },
  {
   "cell_type": "code",
   "execution_count": 4,
   "id": "f808dcad",
   "metadata": {},
   "outputs": [
    {
     "name": "stdout",
     "output_type": "stream",
     "text": [
      "['bourgris' 'a-00' 'ischia' ... 'samael88' 'belcolt' 'marcodisogno']\n",
      "9438\n"
     ]
    }
   ],
   "source": [
    "print(file['white_id'].unique())\n",
    "print(len(file['white_id'].unique()))"
   ]
  },
  {
   "cell_type": "code",
   "execution_count": null,
   "id": "b9d7b5d2",
   "metadata": {},
   "outputs": [
    {
     "name": "stdout",
     "output_type": "stream",
     "text": [
      "                  white_id                                       opening_name  \\\n",
      "0                  --jim--                               Scandinavian Defense   \n",
      "1      -l-_jedi_knight_-l-                                  Guatemala Defense   \n",
      "2      -l-_jedi_knight_-l-  King's Gambit Accepted |  Bishop's Gambit |  M...   \n",
      "3      -l-_jedi_knight_-l-                                       Owen Defense   \n",
      "4      -l-_jedi_knight_-l-      Scandinavian Defense: Mieses-Kotroc Variation   \n",
      "...                    ...                                                ...   \n",
      "17034                zynko                     Sicilian Defense: Old Sicilian   \n",
      "17035              zzeecco                    Italian Game: Giuoco Pianissimo   \n",
      "17036            zztopillo           King's Pawn Game: King's Head Opening #2   \n",
      "17037               zzzbbb  Italian Game: Giuoco Pianissimo |  Italian Fou...   \n",
      "17038              zzzimon                        Ruy Lopez: Steinitz Defense   \n",
      "\n",
      "       Games Played  Win Rate  \n",
      "0                 1       0.0  \n",
      "1                 1       1.0  \n",
      "2                 1       0.0  \n",
      "3                 2       0.5  \n",
      "4                 2       0.5  \n",
      "...             ...       ...  \n",
      "17034             1       1.0  \n",
      "17035             1       1.0  \n",
      "17036             1       1.0  \n",
      "17037             1       1.0  \n",
      "17038             1       0.0  \n",
      "\n",
      "[17039 rows x 4 columns]\n"
     ]
    }
   ],
   "source": [
    "# Group the dataframe by 'white_id' and 'opening_name'\n",
    "grouped = file.groupby(['white_id', 'opening_name']) #find the opening with the best overall winrate\n",
    "\n",
    "# Calculate the count of games and win rate for each group\n",
    "table = grouped.agg({'id': 'count', 'winner': lambda x: (x == 'white').sum() / len(x)})\n",
    "\n",
    "# Rename the columns\n",
    "table.columns = ['Games Played', 'Win Rate']\n",
    "\n",
    "# Reset the index to make 'white_id' and 'opening_name' columns\n",
    "table.reset_index(inplace=True)\n",
    "\n",
    "# Display the table\n",
    "print(table)\n",
    "\n",
    "# table.to_csv('data/processed/result.csv', index=False)\n"
   ]
  },
  {
   "cell_type": "code",
   "execution_count": 4,
   "id": "d3e542f2",
   "metadata": {},
   "outputs": [
    {
     "data": {
      "text/plain": [
       "17039"
      ]
     },
     "execution_count": 4,
     "metadata": {},
     "output_type": "execute_result"
    }
   ],
   "source": [
    "#find the openings used at least twice\n",
    "result = (table[table[\"Games Played\"] >= 1])\n",
    "len(result)"
   ]
  },
  {
   "cell_type": "code",
   "execution_count": null,
   "id": "f92acf12",
   "metadata": {},
   "outputs": [
    {
     "name": "stdout",
     "output_type": "stream",
     "text": [
      "                       ID  Openings Played  Win Rate   Elo    Elo Group\n",
      "0                 --jim--                1       0.0   986        -1200\n",
      "1     -l-_jedi_knight_-l-                4       0.5  1500  1200 - 1600\n",
      "2                  -mati-                1       1.0  1252  1200 - 1600\n",
      "3                 -pavel-                1       1.0  1383  1200 - 1600\n",
      "4                 1063314                1       1.0  1666  1600 - 2000\n",
      "...                   ...              ...       ...   ...          ...\n",
      "9433                zynko                3       1.0  1494  1200 - 1600\n",
      "9434              zzeecco                1       1.0  1525  1200 - 1600\n",
      "9435            zztopillo                1       1.0  1466  1200 - 1600\n",
      "9436               zzzbbb                1       1.0  1616  1600 - 2000\n",
      "9437              zzzimon                1       0.0  1375  1200 - 1600\n",
      "\n",
      "[9438 rows x 5 columns]\n"
     ]
    }
   ],
   "source": [
    "#regroup by player with their overall winrate and the number of different openings they have played and add their elo from original data \n",
    "# (latest elo)\n",
    "grouped = result.groupby(['white_id'])\n",
    "table = grouped.agg({'opening_name': 'count', 'Win Rate': 'mean'}).reset_index()\n",
    "table['Elo'] = grouped['white_id'].apply(lambda x: file[file['white_id'] == x.name]['white_rating'].iloc[-1]).values\n",
    "table.columns = ['ID','Openings Played', 'Win Rate', 'Elo']\n",
    "\n",
    "# table.to_csv('data/processed/result2.csv', index=False)\n",
    "\n",
    "#chop the elo into 4 groups\n",
    "table['Elo Group'] = pd.cut(table['Elo'], bins=[-float('inf'), 1200, 1600, 2000, float('inf')], labels=['-1200', '1200 - 1600', '1600 - 2000', '2000+'])\n",
    "print(table)\n",
    "\n",
    "# table.to_csv('data/processed/result3.csv', index=False)"
   ]
  },
  {
   "cell_type": "code",
   "execution_count": 6,
   "id": "788db30b",
   "metadata": {},
   "outputs": [
    {
     "name": "stderr",
     "output_type": "stream",
     "text": [
      "C:\\Users\\IdeaPad\\AppData\\Local\\Temp\\ipykernel_48896\\210483752.py:7: FutureWarning: The default of observed=False is deprecated and will be changed to True in a future version of pandas. Pass observed=False to retain current behavior or observed=True to adopt the future default and silence this warning.\n",
      "  grouped = table.groupby(['Elo Group', 'Openings Played Group'])\n"
     ]
    },
    {
     "name": "stdout",
     "output_type": "stream",
     "text": [
      "Openings Played Group    1 or 2    3 or 4  5 or more\n",
      "Elo Group                                           \n",
      "-1200                  0.429805  0.311728   0.333605\n",
      "1200 - 1600            0.502343  0.452590   0.476559\n",
      "1600 - 2000            0.536652  0.528727   0.519589\n",
      "2000+                  0.538846  0.646465   0.650921\n"
     ]
    },
    {
     "data": {
      "image/png": "[encoded data removed]",
      "text/plain": [
       "<Figure size 1200x600 with 1 Axes>"
      ]
     },
     "metadata": {},
     "output_type": "display_data"
    }
   ],
   "source": [
    "import matplotlib.pyplot as plt\n",
    "\n",
    "# Group the dataframe by 'Elo Group' and categorize 'Openings Played'\n",
    "table['Openings Played Group'] = pd.cut(table['Openings Played'], bins=[0, 2, 4, float('inf')], labels=['1 or 2', '3 or 4', '5 or more'])\n",
    "\n",
    "# Group the dataframe by 'Elo Group' and 'Openings Played Group'\n",
    "grouped = table.groupby(['Elo Group', 'Openings Played Group'])\n",
    "\n",
    "# Calculate the mean win rate for each group\n",
    "table = grouped.agg({'Win Rate': 'mean'}).reset_index()\n",
    "\n",
    "# Pivot the table to have 'Elo Group' as index, 'Openings Played Group' as columns and 'Win Rate' as values\n",
    "table = table.pivot(index='Elo Group', columns='Openings Played Group', values='Win Rate')\n",
    "\n",
    "# Display the table\n",
    "print(table)\n",
    "\n",
    "# Plot the table\n",
    "table.plot(kind='bar', figsize=(12, 6))\n",
    "plt.title('Win Rate by Elo Group and Openings Played')\n",
    "plt.xlabel('Elo Group')\n",
    "plt.ylabel('Win Rate')\n",
    "plt.xticks(rotation=0)\n",
    "plt.legend(title='Openings Played')\n",
    "plt.show()"
   ]
  }
 ],
 "metadata": {
  "kernelspec": {
   "display_name": "base",
   "language": "python",
   "name": "python3"
  },
  "language_info": {
   "codemirror_mode": {
    "name": "ipython",
    "version": 3
   },
   "file_extension": ".py",
   "mimetype": "text/x-python",
   "name": "python",
   "nbconvert_exporter": "python",
   "pygments_lexer": "ipython3",
   "version": "3.12.7"
  }
 },
 "nbformat": 4,
 "nbformat_minor": 5
}
